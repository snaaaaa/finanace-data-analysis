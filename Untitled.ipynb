{
 "cells": [
  {
   "cell_type": "code",
   "execution_count": 1,
   "id": "e52e6bf1-39d3-4f6e-b5ef-af889f8ce80c",
   "metadata": {},
   "outputs": [
    {
     "name": "stdout",
     "output_type": "stream",
     "text": [
      "✅ 모든 주제별 Jupyter Notebook이 './merged_notebooks' 폴더에 병합되었습니다!\n"
     ]
    }
   ],
   "source": [
    "import nbformat\n",
    "import os\n",
    "\n",
    "# 📂 Notebook 파일이 저장된 폴더 (여기에 맞게 변경)\n",
    "notebook_dir = \"./notebooks\"\n",
    "\n",
    "# 📁 주제별 파일 매칭\n",
    "categories = {\n",
    "    \"종목_데이터_수집_및_분석.ipynb\": [\n",
    "        \"2.1_FinanceDataReader를_통한_상장종목_전체_불러오기-output.ipynb\",\n",
    "        \"2.2_KRX_전체_종목분석-output.ipynb\",\n",
    "        \"3.1_FinanceDataReader를_통한_개별종목_수집하기-output.ipynb\",\n",
    "        \"3.3_네이버금융_개별종목_수집-output.ipynb\"\n",
    "    ],\n",
    "    \"종목_수익률_비교_및_시각화.ipynb\": [\n",
    "        \"3.2_FinanceDataReader를_통한_여러_종목_수익률_비교-output.ipynb\",\n",
    "        \"3.4_plotly로_일별_시세_시각화-output.ipynb\"\n",
    "    ],\n",
    "    \"ETF_데이터_분석_및_시각화.ipynb\": [\n",
    "        \"4.1_ETF_목록_수집-output.ipynb\",\n",
    "        \"4.2_ETF_전처리-output.ipynb\",\n",
    "        \"4.3_ETF_분석과_시각화-output.ipynb\"\n",
    "    ],\n",
    "    \"업종_및_테마_분석.ipynb\": [\n",
    "        \"5.1_업종_테마주_수집-output.ipynb\",\n",
    "        \"5.2_업종_테마_데이터_전처리-output.ipynb\",\n",
    "        \"5.3_업종_테마_분석-output.ipynb\"\n",
    "    ],\n",
    "    \"기술적_지표_분석.ipynb\": [\n",
    "        \"6.1_일별_수익률과_이동평균-output.ipynb\",\n",
    "        \"6.2_변동성_지표_볼린저_밴드-output.ipynb\",\n",
    "        \"6.3_모멘텀_지표_RSI-output.ipynb\",\n",
    "        \"6.4_추세_지표_MACD-output.ipynb\",\n",
    "        \"6.5_cufflinks_로_QuantFig_그리기-input.ipynb\"\n",
    "    ]\n",
    "}\n",
    "\n",
    "# 📂 병합된 파일 저장 폴더\n",
    "merged_dir = \"./merged_notebooks\"\n",
    "os.makedirs(merged_dir, exist_ok=True)\n",
    "\n",
    "# 🛠️ 병합 실행\n",
    "for merged_filename, file_list in categories.items():\n",
    "    merged_notebook = nbformat.v4.new_notebook()\n",
    "    \n",
    "    for filename in file_list:\n",
    "        file_path = os.path.join(notebook_dir, filename)\n",
    "        if os.path.exists(file_path):  # 파일이 존재할 경우만 병합\n",
    "            with open(file_path, 'r', encoding='utf-8') as f:\n",
    "                notebook = nbformat.read(f, as_version=4)\n",
    "                merged_notebook.cells.extend(notebook.cells)\n",
    "\n",
    "    # 병합된 파일 저장\n",
    "    merged_path = os.path.join(merged_dir, merged_filename)\n",
    "    with open(merged_path, 'w', encoding='utf-8') as f:\n",
    "        nbformat.write(merged_notebook, f)\n",
    "\n",
    "print(f\"✅ 모든 주제별 Jupyter Notebook이 '{merged_dir}' 폴더에 병합되었습니다!\")\n"
   ]
  },
  {
   "cell_type": "code",
   "execution_count": null,
   "id": "f9427841-ecb4-4598-8e6c-c38240093b5e",
   "metadata": {},
   "outputs": [],
   "source": []
  }
 ],
 "metadata": {
  "kernelspec": {
   "display_name": "Python 3 (ipykernel)",
   "language": "python",
   "name": "python3"
  },
  "language_info": {
   "codemirror_mode": {
    "name": "ipython",
    "version": 3
   },
   "file_extension": ".py",
   "mimetype": "text/x-python",
   "name": "python",
   "nbconvert_exporter": "python",
   "pygments_lexer": "ipython3",
   "version": "3.12.7"
  }
 },
 "nbformat": 4,
 "nbformat_minor": 5
}
